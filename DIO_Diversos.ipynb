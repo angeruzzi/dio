{
  "nbformat": 4,
  "nbformat_minor": 0,
  "metadata": {
    "colab": {
      "provenance": [],
      "authorship_tag": "ABX9TyNjwXwFLqmilnOinC06iaFa",
      "include_colab_link": true
    },
    "kernelspec": {
      "name": "python3",
      "display_name": "Python 3"
    },
    "language_info": {
      "name": "python"
    }
  },
  "cells": [
    {
      "cell_type": "markdown",
      "metadata": {
        "id": "view-in-github",
        "colab_type": "text"
      },
      "source": [
        "<a href=\"https://colab.research.google.com/github/angeruzzi/dio/blob/main/DIO_Diversos.ipynb\" target=\"_parent\"><img src=\"https://colab.research.google.com/assets/colab-badge.svg\" alt=\"Open In Colab\"/></a>"
      ]
    },
    {
      "cell_type": "code",
      "execution_count": null,
      "metadata": {
        "colab": {
          "base_uri": "https://localhost:8080/"
        },
        "id": "kU3Ta65azb1i",
        "outputId": "ae255523-65f9-4640-e656-690535e316f9"
      },
      "outputs": [
        {
          "output_type": "stream",
          "name": "stdout",
          "text": [
            "100 2 2\n",
            "25.00\n"
          ]
        }
      ],
      "source": [
        "entrada = input().split()\n",
        "\n",
        "distancia = int(entrada[0])\n",
        "diametro1 = int(entrada[1])\n",
        "diametro2 = int(entrada[2])\n",
        "\n",
        "# TODO: Calcule o ICM da comunicação dos Palatír de Sauron e Saruman, com 2 casas decimais no espaço #em branco abaixo:\n",
        "\n",
        "icm = distancia / (diametro1+diametro2)\n",
        "print(\"{:.2f}\".format(icm))"
      ]
    },
    {
      "cell_type": "code",
      "source": [
        "alfabeto = list(range(ord('A'),ord('Z')+1))\n",
        "\n",
        "letra = ord('C'.upper())\n",
        "\n",
        "print(alfabeto.index(letra))"
      ],
      "metadata": {
        "colab": {
          "base_uri": "https://localhost:8080/"
        },
        "id": "dAuH7BRumaXK",
        "outputId": "5df9f5a5-8a08-420b-89e5-d7c206fac1d0"
      },
      "execution_count": 15,
      "outputs": [
        {
          "output_type": "stream",
          "name": "stdout",
          "text": [
            "2\n"
          ]
        }
      ]
    },
    {
      "cell_type": "code",
      "source": [
        "alunos = ['Ana', 'Bruno', 'Clara', 'Hugo', 'Katia', 'Mônica']\n",
        "print(type(alunos))\n",
        "print(alunos.index('Clara'))"
      ],
      "metadata": {
        "colab": {
          "base_uri": "https://localhost:8080/"
        },
        "id": "tLGaldaXnCaE",
        "outputId": "d9eb92a2-9954-4ff7-9496-5dae291b01c3"
      },
      "execution_count": 10,
      "outputs": [
        {
          "output_type": "stream",
          "name": "stdout",
          "text": [
            "<class 'list'>\n",
            "2\n"
          ]
        }
      ]
    },
    {
      "cell_type": "code",
      "source": [
        "valores = input().split() \n",
        "\n",
        "# TODO:  Calcule a média de cachorros quentes consumidas por participante e imprima o valor com DUAS casas decimais.\n",
        "hotdogs = float(valores[0])\n",
        "persons = float(valores[1])\n",
        "rate = round(hotdogs/persons,2)\n",
        "print(rate)"
      ],
      "metadata": {
        "colab": {
          "base_uri": "https://localhost:8080/"
        },
        "id": "Xdok_YgIzhBk",
        "outputId": "760ecf84-b5f0-4120-b5e2-d5105a1793d8"
      },
      "execution_count": 4,
      "outputs": [
        {
          "output_type": "stream",
          "name": "stdout",
          "text": [
            "35 1000\n",
            "0.04\n"
          ]
        }
      ]
    },
    {
      "cell_type": "code",
      "source": [
        "valores = input().split()\n",
        "\n",
        "# TODO:  Calcule quantidade de litros necessária para realizar a viagem e imprima com TRÊS dígitos após o ponto decimal\n",
        "time = int(valores[0])\n",
        "speed = int(valores[1])\n",
        "\n",
        "distance = speed*time\n",
        "print(distance)\n",
        "fuel = distance/12\n",
        "\n",
        "print(\"{:.2f}\".format(fuel))"
      ],
      "metadata": {
        "colab": {
          "base_uri": "https://localhost:8080/"
        },
        "id": "nktDEkesMoxQ",
        "outputId": "0f941a9c-bd11-4a8c-9da6-6bb28af733f0"
      },
      "execution_count": null,
      "outputs": [
        {
          "output_type": "stream",
          "name": "stdout",
          "text": [
            "22 67\n",
            "1474\n",
            "122.83\n"
          ]
        }
      ]
    },
    {
      "cell_type": "markdown",
      "source": [
        "#Pacotes - Preprocessing Image"
      ],
      "metadata": {
        "id": "YdZSaluyjicl"
      }
    },
    {
      "cell_type": "code",
      "source": [
        "from image_preprocessing.utils import io, plot\n",
        "from image_preprocessing.processing import combination, transformation"
      ],
      "metadata": {
        "id": "ZI4FGIzTjli6"
      },
      "execution_count": null,
      "outputs": []
    },
    {
      "cell_type": "code",
      "source": [
        "image1 = io.read_image('path/image1.jpg')\n",
        "image2 = io.read_image('path/image2.jpg')"
      ],
      "metadata": {
        "id": "HgF7KwcIjybE"
      },
      "execution_count": null,
      "outputs": []
    },
    {
      "cell_type": "code",
      "source": [
        "plot.plot_image(image1)\n",
        "plot.plot_image(image2)"
      ],
      "metadata": {
        "id": "8omo0fyykAVU"
      },
      "execution_count": null,
      "outputs": []
    },
    {
      "cell_type": "code",
      "source": [
        "result_image = combination.transfer_histogram(image1, image2)\n",
        "plot.plot_result(image1, image2, result_image)"
      ],
      "metadata": {
        "id": "zGMJd1hzkInn"
      },
      "execution_count": null,
      "outputs": []
    }
  ]
}
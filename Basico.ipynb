{
  "nbformat": 4,
  "nbformat_minor": 0,
  "metadata": {
    "colab": {
      "provenance": [],
      "authorship_tag": "ABX9TyPofSQ9rReehXsGFy5JJJ88",
      "include_colab_link": true
    },
    "kernelspec": {
      "name": "python3",
      "display_name": "Python 3"
    },
    "language_info": {
      "name": "python"
    }
  },
  "cells": [
    {
      "cell_type": "markdown",
      "metadata": {
        "id": "view-in-github",
        "colab_type": "text"
      },
      "source": [
        "<a href=\"https://colab.research.google.com/github/angeruzzi/dio/blob/main/Basico.ipynb\" target=\"_parent\"><img src=\"https://colab.research.google.com/assets/colab-badge.svg\" alt=\"Open In Colab\"/></a>"
      ]
    },
    {
      "cell_type": "markdown",
      "source": [
        "#Tipos de Dados Avançados"
      ],
      "metadata": {
        "id": "BHW26JGtnGNz"
      }
    },
    {
      "cell_type": "markdown",
      "source": [
        "##Numérico: Complex (x+yi)\n",
        "\n"
      ],
      "metadata": {
        "id": "jn9WDNulnvAi"
      }
    },
    {
      "cell_type": "code",
      "source": [
        "int_ = 1\n",
        "float_ = 1.1\n",
        "\n",
        "import cmath\n",
        "z = complex(3,5)\n",
        "print(z)\n",
        "print(z.real)\n",
        "print(z.imag)\n",
        "print(cmath.phase(z))\n",
        "print(cmath.polar(z))"
      ],
      "metadata": {
        "colab": {
          "base_uri": "https://localhost:8080/"
        },
        "id": "h5iFmWABnZ8i",
        "outputId": "165806d4-14fb-4268-9907-2a0dc5d43cc2"
      },
      "execution_count": null,
      "outputs": [
        {
          "output_type": "stream",
          "name": "stdout",
          "text": [
            "(3+5j)\n",
            "3.0\n",
            "5.0\n",
            "1.0303768265243125\n",
            "(5.830951894845301, 1.0303768265243125)\n"
          ]
        }
      ]
    },
    {
      "cell_type": "markdown",
      "source": [
        "##Coleção: Frozenset\n",
        "\n"
      ],
      "metadata": {
        "id": "D7Lgcxs2pIJf"
      }
    },
    {
      "cell_type": "code",
      "source": [
        "fruits = {\"Apple\", \"Banana\", \"Cherry\", \"Apple\", \"Kiwi\"}\n",
        "basket = frozenset(fruits)\n",
        "\n",
        "print('Unique elements:', basket)"
      ],
      "metadata": {
        "colab": {
          "base_uri": "https://localhost:8080/"
        },
        "id": "lEpcrfQhoang",
        "outputId": "5a9e4f0c-49ee-44b4-d0ec-7e60107eb707"
      },
      "execution_count": null,
      "outputs": [
        {
          "output_type": "stream",
          "name": "stdout",
          "text": [
            "Unique elements: frozenset({'Apple', 'Banana', 'Kiwi', 'Cherry'})\n"
          ]
        }
      ]
    },
    {
      "cell_type": "code",
      "source": [
        "numbers1 = frozenset([1, 2, 3, 4, 5])\n",
        "numbers2 = frozenset([2, 3, 4, 5])\n",
        "\n",
        "# Combining both of them using \"|\" operator\n",
        "# You can also use union() method\n",
        "combined = numbers1 | numbers2\n",
        "print(\"Combined set:\", combined)\n",
        "\n",
        "# Selecting common elements using \"&\" operator\n",
        "# You can also use intersection() method\n",
        "intersect = numbers1 & numbers2\n",
        "print(\"Intersected set:\", intersect)\n",
        "\n",
        "# Selecting elements which are not common using \"-\" operator\n",
        "# You can also use difference() method\n",
        "difference = numbers1 - numbers2\n",
        "print(\"Difference set:\", difference)\n",
        "\n",
        "# Membership testing\n",
        "\n",
        "# It returns True if sets (frozenset) have no common items otherwise False\n",
        "Disjoint = numbers1.isdisjoint(numbers2)\n",
        "print(\"Disjoint:\", Disjoint)\n",
        "\n",
        "# It returns True if all the items of a set (frozenset) are common in another set (frozenset)\n",
        "Subset = numbers1.issubset(numbers2)\n",
        "print(\"Subset:\", Subset)\n",
        "\n",
        "# It returns True if a set (frozenset) has all items present in another set (frozenset)\n",
        "Superset = numbers1.issuperset(numbers2)\n",
        "print(\"Superset:\", Superset)"
      ],
      "metadata": {
        "colab": {
          "base_uri": "https://localhost:8080/"
        },
        "id": "ongbAmW4skeG",
        "outputId": "5744143a-8ef0-46dc-b906-8029091c44d1"
      },
      "execution_count": null,
      "outputs": [
        {
          "output_type": "stream",
          "name": "stdout",
          "text": [
            "Combined set: frozenset({1, 2, 3, 4, 5})\n",
            "Intersected set: frozenset({2, 3, 4, 5})\n",
            "Difference set: frozenset({1})\n",
            "Disjoint: False\n",
            "Subset: False\n",
            "Superset: True\n"
          ]
        }
      ]
    },
    {
      "cell_type": "markdown",
      "source": [
        "#Binário\n",
        "\n",
        "\n",
        "1.   Bytes\n",
        "2.   Bytesarray\n",
        "3.   Memoryview\n",
        "\n"
      ],
      "metadata": {
        "id": "hyez3IaGZsHH"
      }
    },
    {
      "cell_type": "code",
      "source": [
        "# Python program to illustrate memoryview()\n",
        "my_byte_array = bytearray('ABCDE', 'utf-8')\n",
        "print(my_byte_array)\n",
        "\n",
        "# Create memoryview object\n",
        "mv = memoryview(my_byte_array)\n",
        "\n",
        "print(type(mv))   # displays the type of variable mv\n",
        "print(mv)  # displays memory location of the created memoryview object\n",
        "\n",
        "# access memory view's index\n",
        "print(mv[0])\n",
        "print(mv[2])\n",
        "\n",
        "# create byte from memory view\n",
        "print(bytes(mv[0:3]))\n",
        "\n",
        "# create list from memory view\n",
        "print(list(mv[0:5]))"
      ],
      "metadata": {
        "colab": {
          "base_uri": "https://localhost:8080/"
        },
        "id": "Bl5-4NvHaT1O",
        "outputId": "375f33ec-c798-4176-f703-f667c9b93e71"
      },
      "execution_count": null,
      "outputs": [
        {
          "output_type": "stream",
          "name": "stdout",
          "text": [
            "bytearray(b'ABCDE')\n",
            "<class 'memoryview'>\n",
            "<memory at 0x7f3b6ade0530>\n",
            "65\n",
            "67\n",
            "b'ABC'\n",
            "[65, 66, 67, 68, 69]\n"
          ]
        }
      ]
    },
    {
      "cell_type": "markdown",
      "source": [
        "#Análise de Dados"
      ],
      "metadata": {
        "id": "DS-vpgz3qhdN"
      }
    },
    {
      "cell_type": "code",
      "source": [],
      "metadata": {
        "id": "8nmOrwwgqqBM"
      },
      "execution_count": null,
      "outputs": []
    },
    {
      "cell_type": "markdown",
      "source": [
        "#Listas\n"
      ],
      "metadata": {
        "id": "FOXyGdPMX7yF"
      }
    },
    {
      "cell_type": "code",
      "source": [
        "lista = [\"p\",\"y\",\"t\",\"h\",\"o\",\"n\"]\n",
        "\n",
        "palavra = \"python\""
      ],
      "metadata": {
        "id": "0fDPrXL4X-PY"
      },
      "execution_count": null,
      "outputs": []
    },
    {
      "cell_type": "markdown",
      "source": [],
      "metadata": {
        "id": "64W1xz-UqpHU"
      }
    },
    {
      "cell_type": "code",
      "source": [
        "lista[2:]"
      ],
      "metadata": {
        "colab": {
          "base_uri": "https://localhost:8080/"
        },
        "id": "armz3N0nYJht",
        "outputId": "7ea150c8-95c3-4f03-957e-adef33136001"
      },
      "execution_count": null,
      "outputs": [
        {
          "output_type": "execute_result",
          "data": {
            "text/plain": [
              "['t', 'h', 'o', 'n']"
            ]
          },
          "metadata": {},
          "execution_count": 2
        }
      ]
    },
    {
      "cell_type": "code",
      "source": [
        "palavra[2:]"
      ],
      "metadata": {
        "colab": {
          "base_uri": "https://localhost:8080/",
          "height": 35
        },
        "id": "mVmoDR3RYLNe",
        "outputId": "9fb9ff06-8576-449e-f5c0-b582b3e8c6d5"
      },
      "execution_count": null,
      "outputs": [
        {
          "output_type": "execute_result",
          "data": {
            "text/plain": [
              "'thon'"
            ],
            "application/vnd.google.colaboratory.intrinsic+json": {
              "type": "string"
            }
          },
          "metadata": {},
          "execution_count": 3
        }
      ]
    },
    {
      "cell_type": "code",
      "source": [
        "palavra[::-1]"
      ],
      "metadata": {
        "colab": {
          "base_uri": "https://localhost:8080/",
          "height": 35
        },
        "id": "X9Dt-uhHYNSC",
        "outputId": "015a1d1c-e27b-4219-f4d7-595aac3c6d51"
      },
      "execution_count": null,
      "outputs": [
        {
          "output_type": "execute_result",
          "data": {
            "text/plain": [
              "'nohtyp'"
            ],
            "application/vnd.google.colaboratory.intrinsic+json": {
              "type": "string"
            }
          },
          "metadata": {},
          "execution_count": 4
        }
      ]
    },
    {
      "cell_type": "code",
      "source": [
        "numeros = [1,30,21,2,9,65,34]\n",
        "\n",
        "pares = [numero for numero in numeros if numero % 2 == 0]\n",
        "\n",
        "pares"
      ],
      "metadata": {
        "colab": {
          "base_uri": "https://localhost:8080/"
        },
        "id": "-t6_npPHa-Sm",
        "outputId": "89f5c055-6851-4497-bcf9-3ef018f8638a"
      },
      "execution_count": null,
      "outputs": [
        {
          "output_type": "execute_result",
          "data": {
            "text/plain": [
              "[30, 2, 34]"
            ]
          },
          "metadata": {},
          "execution_count": 5
        }
      ]
    },
    {
      "cell_type": "code",
      "source": [
        "quadrado = [numero ** 2 for numero in numeros]\n",
        "quadrado"
      ],
      "metadata": {
        "colab": {
          "base_uri": "https://localhost:8080/"
        },
        "id": "tIc_rylkbn0Z",
        "outputId": "65456b16-bc81-4841-b054-cfbf32ed11ce"
      },
      "execution_count": null,
      "outputs": [
        {
          "output_type": "execute_result",
          "data": {
            "text/plain": [
              "[1, 900, 441, 4, 81, 4225, 1156]"
            ]
          },
          "metadata": {},
          "execution_count": 7
        }
      ]
    },
    {
      "cell_type": "code",
      "source": [
        "[n**2 if n > 6 else n for n in range(10) if n % 2 == 0]"
      ],
      "metadata": {
        "colab": {
          "base_uri": "https://localhost:8080/"
        },
        "id": "LaBSypncbzvr",
        "outputId": "c2184649-e81d-44b1-fbfa-c46d475ae426"
      },
      "execution_count": null,
      "outputs": [
        {
          "output_type": "execute_result",
          "data": {
            "text/plain": [
              "[0, 2, 4, 6, 64]"
            ]
          },
          "metadata": {},
          "execution_count": 8
        }
      ]
    },
    {
      "cell_type": "code",
      "source": [
        "numeros.last()"
      ],
      "metadata": {
        "colab": {
          "base_uri": "https://localhost:8080/",
          "height": 165
        },
        "id": "XxmM-TQkf26Q",
        "outputId": "779c16c8-73d3-489b-f914-40ea1c67f2d6"
      },
      "execution_count": null,
      "outputs": [
        {
          "output_type": "error",
          "ename": "AttributeError",
          "evalue": "ignored",
          "traceback": [
            "\u001b[0;31m---------------------------------------------------------------------------\u001b[0m",
            "\u001b[0;31mAttributeError\u001b[0m                            Traceback (most recent call last)",
            "\u001b[0;32m<ipython-input-9-066cef2daeea>\u001b[0m in \u001b[0;36m<module>\u001b[0;34m\u001b[0m\n\u001b[0;32m----> 1\u001b[0;31m \u001b[0mnumeros\u001b[0m\u001b[0;34m.\u001b[0m\u001b[0mlast\u001b[0m\u001b[0;34m(\u001b[0m\u001b[0;34m)\u001b[0m\u001b[0;34m\u001b[0m\u001b[0;34m\u001b[0m\u001b[0m\n\u001b[0m",
            "\u001b[0;31mAttributeError\u001b[0m: 'list' object has no attribute 'last'"
          ]
        }
      ]
    },
    {
      "cell_type": "code",
      "source": [
        "carros = (\"gol\")\n",
        "print(isinstance(carros, tuple))"
      ],
      "metadata": {
        "colab": {
          "base_uri": "https://localhost:8080/"
        },
        "id": "aBWLTBm3gSfH",
        "outputId": "1e553457-4ac0-40b3-d1d4-d44f41095ce5"
      },
      "execution_count": null,
      "outputs": [
        {
          "output_type": "stream",
          "name": "stdout",
          "text": [
            "False\n"
          ]
        }
      ]
    },
    {
      "cell_type": "code",
      "source": [
        "fruits = {\"Apple\", \"Banana\", \"Cherry\", \"Apple\", \"Kiwi\"}\n",
        "type(fruits)"
      ],
      "metadata": {
        "colab": {
          "base_uri": "https://localhost:8080/"
        },
        "id": "ny_0eD12xmy3",
        "outputId": "d5dda79c-30f1-45f1-a205-5cf7cf050c1e"
      },
      "execution_count": null,
      "outputs": [
        {
          "output_type": "execute_result",
          "data": {
            "text/plain": [
              "set"
            ]
          },
          "metadata": {},
          "execution_count": 11
        }
      ]
    },
    {
      "cell_type": "code",
      "source": [
        "fruits"
      ],
      "metadata": {
        "colab": {
          "base_uri": "https://localhost:8080/"
        },
        "id": "LcNYmPva3HC7",
        "outputId": "f9563d2d-de26-489a-959c-2d6c079194ab"
      },
      "execution_count": null,
      "outputs": [
        {
          "output_type": "execute_result",
          "data": {
            "text/plain": [
              "{'Apple', 'Banana', 'Cherry', 'Kiwi'}"
            ]
          },
          "metadata": {},
          "execution_count": 12
        }
      ]
    },
    {
      "cell_type": "code",
      "source": [],
      "metadata": {
        "id": "OqpJJ2_43OdC"
      },
      "execution_count": null,
      "outputs": []
    },
    {
      "cell_type": "markdown",
      "source": [
        "##PANDAS"
      ],
      "metadata": {
        "id": "4h8N_nooTfXA"
      }
    },
    {
      "cell_type": "code",
      "source": [],
      "metadata": {
        "id": "97ZOA3C0Tg41"
      },
      "execution_count": null,
      "outputs": []
    },
    {
      "cell_type": "markdown",
      "source": [
        "##LUIGI\n",
        "\n",
        "Criado pelo Spotify\n",
        "\n",
        "Pipelines de Dados em Python\n",
        "\n",
        "\n",
        "\n",
        "*   require()\n",
        "*   output()\n",
        "*   run()\n",
        "\n",
        "\n"
      ],
      "metadata": {
        "id": "DnvDUYCaZ7uY"
      }
    },
    {
      "cell_type": "code",
      "source": [
        "!pip install luigi"
      ],
      "metadata": {
        "colab": {
          "base_uri": "https://localhost:8080/"
        },
        "id": "y7ul3ZUoZ9p7",
        "outputId": "ba6a57b3-e8ad-43cb-86ff-ed59c0debfec"
      },
      "execution_count": null,
      "outputs": [
        {
          "output_type": "stream",
          "name": "stdout",
          "text": [
            "Looking in indexes: https://pypi.org/simple, https://us-python.pkg.dev/colab-wheels/public/simple/\n",
            "Collecting luigi\n",
            "  Downloading luigi-3.1.1.tar.gz (1.2 MB)\n",
            "\u001b[K     |████████████████████████████████| 1.2 MB 29.7 MB/s \n",
            "\u001b[?25hRequirement already satisfied: python-dateutil<3,>=2.7.5 in /usr/local/lib/python3.7/dist-packages (from luigi) (2.8.2)\n",
            "Requirement already satisfied: tenacity<9,>=8 in /usr/local/lib/python3.7/dist-packages (from luigi) (8.1.0)\n",
            "Collecting python-daemon\n",
            "  Downloading python_daemon-2.3.2-py3-none-any.whl (34 kB)\n",
            "Requirement already satisfied: tornado<7,>=5.0 in /usr/local/lib/python3.7/dist-packages (from luigi) (6.0.4)\n",
            "Requirement already satisfied: six>=1.5 in /usr/local/lib/python3.7/dist-packages (from python-dateutil<3,>=2.7.5->luigi) (1.15.0)\n",
            "Collecting lockfile>=0.10\n",
            "  Downloading lockfile-0.12.2-py2.py3-none-any.whl (13 kB)\n",
            "Requirement already satisfied: setuptools in /usr/local/lib/python3.7/dist-packages (from python-daemon->luigi) (57.4.0)\n",
            "Requirement already satisfied: docutils in /usr/local/lib/python3.7/dist-packages (from python-daemon->luigi) (0.17.1)\n",
            "Building wheels for collected packages: luigi\n",
            "  Building wheel for luigi (setup.py) ... \u001b[?25l\u001b[?25hdone\n",
            "  Created wheel for luigi: filename=luigi-3.1.1-py3-none-any.whl size=1082711 sha256=675e260dd5d852a8e021a0257b9b1e8bf98247e8e2c4e7b2b38f4ceeda3b1bf4\n",
            "  Stored in directory: /root/.cache/pip/wheels/44/2d/25/2996d02abce93a0ee0ce98f206c8a7241f1ac89c5150f3430f\n",
            "Successfully built luigi\n",
            "Installing collected packages: lockfile, python-daemon, luigi\n",
            "Successfully installed lockfile-0.12.2 luigi-3.1.1 python-daemon-2.3.2\n"
          ]
        }
      ]
    },
    {
      "cell_type": "code",
      "source": [
        "luigid"
      ],
      "metadata": {
        "colab": {
          "base_uri": "https://localhost:8080/",
          "height": 165
        },
        "id": "59FxxlVkb1TE",
        "outputId": "a3d7bd91-3881-4fd4-a09c-83a0d2d97dae"
      },
      "execution_count": null,
      "outputs": [
        {
          "output_type": "error",
          "ename": "NameError",
          "evalue": "ignored",
          "traceback": [
            "\u001b[0;31m---------------------------------------------------------------------------\u001b[0m",
            "\u001b[0;31mNameError\u001b[0m                                 Traceback (most recent call last)",
            "\u001b[0;32m<ipython-input-3-58c369ad94c0>\u001b[0m in \u001b[0;36m<module>\u001b[0;34m\u001b[0m\n\u001b[0;32m----> 1\u001b[0;31m \u001b[0mluigid\u001b[0m\u001b[0;34m\u001b[0m\u001b[0;34m\u001b[0m\u001b[0m\n\u001b[0m",
            "\u001b[0;31mNameError\u001b[0m: name 'luigid' is not defined"
          ]
        }
      ]
    },
    {
      "cell_type": "code",
      "source": [],
      "metadata": {
        "id": "wMTGIpKkcR1B"
      },
      "execution_count": null,
      "outputs": []
    },
    {
      "cell_type": "markdown",
      "source": [
        "##Classes"
      ],
      "metadata": {
        "id": "474s3KXYhNU6"
      }
    },
    {
      "cell_type": "code",
      "source": [
        "class Bicicleta:\n",
        "  def __init__(self, cor, modelo, ano, valor):\n",
        "    self.cor = cor\n",
        "    self.modelo = modelo\n",
        "    self.ano = ano\n",
        "    self.valor = valor\n",
        "\n",
        "  def buzinar(self):\n",
        "    print(\"Plim plim...\")\n",
        "  \n",
        "  def parar(self):\n",
        "    print(\"Parando bicicleta...\")\n",
        "    print(\"Bicicleta parada!\")\n",
        "  \n",
        "  def correr(self):\n",
        "    print(\"Vrummmmm....\")\n",
        "\n",
        "  def __str__(self):\n",
        "    return f\"{self.__class__.__name__}: {', '.join([f'{chave}={valor}' for chave, valor in self.__dict__.items()])}\"\n",
        "\n",
        "  def __del__(self):\n",
        "    print(\"Removendo a instância\")  \n",
        "\n",
        "b1 = Bicicleta(\"vermelha\", \"caloi\", 2022, 600)\n",
        "b1.buzinar()\n",
        "b1.correr()\n",
        "b1.parar()\n",
        "\n",
        "print(b1.cor, b1.modelo, b1.valor)\n",
        "\n",
        "print(b1)\n",
        "\n",
        "del b1"
      ],
      "metadata": {
        "colab": {
          "base_uri": "https://localhost:8080/"
        },
        "id": "QnbHYM26hOJE",
        "outputId": "dd6f2fd8-902e-4203-abb8-37388cf5e232"
      },
      "execution_count": null,
      "outputs": [
        {
          "output_type": "stream",
          "name": "stdout",
          "text": [
            "Plim plim...\n",
            "Vrummmmm....\n",
            "Parando bicicleta...\n",
            "Bicicleta parada!\n",
            "vermelha caloi 600\n",
            "Bicicleta: cor=vermelha, modelo=caloi, ano=2022, valor=600\n",
            "Removendo a instância\n"
          ]
        }
      ]
    },
    {
      "cell_type": "code",
      "source": [
        "b1"
      ],
      "metadata": {
        "colab": {
          "base_uri": "https://localhost:8080/"
        },
        "id": "ZSuFdzrQhkfL",
        "outputId": "37d0c365-8d32-40ac-c6e7-767f6e4a19e1"
      },
      "execution_count": null,
      "outputs": [
        {
          "output_type": "execute_result",
          "data": {
            "text/plain": [
              "<__main__.Bicicleta at 0x7f44c7308c10>"
            ]
          },
          "metadata": {},
          "execution_count": 5
        }
      ]
    },
    {
      "cell_type": "markdown",
      "source": [
        "##Property"
      ],
      "metadata": {
        "id": "buYX1zMczYif"
      }
    },
    {
      "cell_type": "code",
      "source": [
        "class Foo:\n",
        "  def __init__(self, x=None):\n",
        "    self._x = x\n",
        "\n",
        "  @property\n",
        "  def x(self):\n",
        "    return self._x or 0\n",
        "\n",
        "  @x.setter\n",
        "  def x(self, value):\n",
        "    self._x  += value\n",
        "\n",
        "  @x.deleter\n",
        "  def x(self):\n",
        "    self._x = -1\n",
        "\n",
        "foo = Foo(10)\n",
        "print(foo.x)\n",
        "\n",
        "foo.x = 100\n",
        "print(foo.x)\n",
        "\n",
        "del foo.x\n",
        "print(foo.x)"
      ],
      "metadata": {
        "colab": {
          "base_uri": "https://localhost:8080/"
        },
        "id": "v-xfTm_BhlFC",
        "outputId": "fd641aec-eab6-4c4b-a835-fdeb718f8f9d"
      },
      "execution_count": null,
      "outputs": [
        {
          "output_type": "stream",
          "name": "stdout",
          "text": [
            "10\n",
            "110\n",
            "-1\n"
          ]
        }
      ]
    },
    {
      "cell_type": "code",
      "source": [],
      "metadata": {
        "id": "B1sIZfduzvD0"
      },
      "execution_count": null,
      "outputs": []
    }
  ]
}